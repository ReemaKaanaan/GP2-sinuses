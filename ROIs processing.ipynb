{
  "cells": [
    {
      "cell_type": "code",
      "execution_count": null,
      "metadata": {
        "colab": {
          "base_uri": "https://localhost:8080/",
          "height": 1000
        },
        "id": "9S8r26UGt7Rh",
        "outputId": "ace42b96-2806-4b4e-fb13-ba4e81da1502"
      },
      "outputs": [
        {
          "output_type": "stream",
          "name": "stdout",
          "text": [
            "Looking in indexes: https://pypi.org/simple, https://us-python.pkg.dev/colab-wheels/public/simple/\n",
            "Collecting roboflow\n",
            "  Downloading roboflow-1.0.9-py3-none-any.whl (56 kB)\n",
            "\u001b[2K     \u001b[90m━━━━━━━━━━━━━━━━━━━━━━━━━━━━━━━━━━━━━━━━\u001b[0m \u001b[32m56.3/56.3 kB\u001b[0m \u001b[31m2.7 MB/s\u001b[0m eta \u001b[36m0:00:00\u001b[0m\n",
            "\u001b[?25hRequirement already satisfied: certifi==2022.12.7 in /usr/local/lib/python3.10/dist-packages (from roboflow) (2022.12.7)\n",
            "Requirement already satisfied: chardet==4.0.0 in /usr/local/lib/python3.10/dist-packages (from roboflow) (4.0.0)\n",
            "Collecting cycler==0.10.0 (from roboflow)\n",
            "  Downloading cycler-0.10.0-py2.py3-none-any.whl (6.5 kB)\n",
            "Collecting idna==2.10 (from roboflow)\n",
            "  Downloading idna-2.10-py2.py3-none-any.whl (58 kB)\n",
            "\u001b[2K     \u001b[90m━━━━━━━━━━━━━━━━━━━━━━━━━━━━━━━━━━━━━━━━\u001b[0m \u001b[32m58.8/58.8 kB\u001b[0m \u001b[31m8.1 MB/s\u001b[0m eta \u001b[36m0:00:00\u001b[0m\n",
            "\u001b[?25hRequirement already satisfied: kiwisolver>=1.3.1 in /usr/local/lib/python3.10/dist-packages (from roboflow) (1.4.4)\n",
            "Requirement already satisfied: matplotlib in /usr/local/lib/python3.10/dist-packages (from roboflow) (3.7.1)\n",
            "Requirement already satisfied: numpy>=1.18.5 in /usr/local/lib/python3.10/dist-packages (from roboflow) (1.22.4)\n",
            "Requirement already satisfied: opencv-python>=4.1.2 in /usr/local/lib/python3.10/dist-packages (from roboflow) (4.7.0.72)\n",
            "Requirement already satisfied: Pillow>=7.1.2 in /usr/local/lib/python3.10/dist-packages (from roboflow) (8.4.0)\n",
            "Collecting pyparsing==2.4.7 (from roboflow)\n",
            "  Downloading pyparsing-2.4.7-py2.py3-none-any.whl (67 kB)\n",
            "\u001b[2K     \u001b[90m━━━━━━━━━━━━━━━━━━━━━━━━━━━━━━━━━━━━━━━━\u001b[0m \u001b[32m67.8/67.8 kB\u001b[0m \u001b[31m8.4 MB/s\u001b[0m eta \u001b[36m0:00:00\u001b[0m\n",
            "\u001b[?25hRequirement already satisfied: python-dateutil in /usr/local/lib/python3.10/dist-packages (from roboflow) (2.8.2)\n",
            "Collecting python-dotenv (from roboflow)\n",
            "  Downloading python_dotenv-1.0.0-py3-none-any.whl (19 kB)\n",
            "Requirement already satisfied: requests in /usr/local/lib/python3.10/dist-packages (from roboflow) (2.27.1)\n",
            "Requirement already satisfied: six in /usr/local/lib/python3.10/dist-packages (from roboflow) (1.16.0)\n",
            "Requirement already satisfied: urllib3>=1.26.6 in /usr/local/lib/python3.10/dist-packages (from roboflow) (1.26.15)\n",
            "Collecting wget (from roboflow)\n",
            "  Downloading wget-3.2.zip (10 kB)\n",
            "  Preparing metadata (setup.py) ... \u001b[?25l\u001b[?25hdone\n",
            "Requirement already satisfied: tqdm>=4.41.0 in /usr/local/lib/python3.10/dist-packages (from roboflow) (4.65.0)\n",
            "Requirement already satisfied: PyYAML>=5.3.1 in /usr/local/lib/python3.10/dist-packages (from roboflow) (6.0)\n",
            "Collecting requests-toolbelt (from roboflow)\n",
            "  Downloading requests_toolbelt-1.0.0-py2.py3-none-any.whl (54 kB)\n",
            "\u001b[2K     \u001b[90m━━━━━━━━━━━━━━━━━━━━━━━━━━━━━━━━━━━━━━━━\u001b[0m \u001b[32m54.5/54.5 kB\u001b[0m \u001b[31m6.2 MB/s\u001b[0m eta \u001b[36m0:00:00\u001b[0m\n",
            "\u001b[?25hRequirement already satisfied: contourpy>=1.0.1 in /usr/local/lib/python3.10/dist-packages (from matplotlib->roboflow) (1.0.7)\n",
            "Requirement already satisfied: fonttools>=4.22.0 in /usr/local/lib/python3.10/dist-packages (from matplotlib->roboflow) (4.39.3)\n",
            "Requirement already satisfied: packaging>=20.0 in /usr/local/lib/python3.10/dist-packages (from matplotlib->roboflow) (23.1)\n",
            "Requirement already satisfied: charset-normalizer~=2.0.0 in /usr/local/lib/python3.10/dist-packages (from requests->roboflow) (2.0.12)\n",
            "Building wheels for collected packages: wget\n",
            "  Building wheel for wget (setup.py) ... \u001b[?25l\u001b[?25hdone\n",
            "  Created wheel for wget: filename=wget-3.2-py3-none-any.whl size=9657 sha256=1ae4be4693ea513a4eba0d19ed2f50465cdefca745f393e66832f8816d6b036e\n",
            "  Stored in directory: /root/.cache/pip/wheels/8b/f1/7f/5c94f0a7a505ca1c81cd1d9208ae2064675d97582078e6c769\n",
            "Successfully built wget\n",
            "Installing collected packages: wget, python-dotenv, pyparsing, idna, cycler, requests-toolbelt, roboflow\n",
            "  Attempting uninstall: pyparsing\n",
            "    Found existing installation: pyparsing 3.0.9\n",
            "    Uninstalling pyparsing-3.0.9:\n",
            "      Successfully uninstalled pyparsing-3.0.9\n",
            "  Attempting uninstall: idna\n",
            "    Found existing installation: idna 3.4\n",
            "    Uninstalling idna-3.4:\n",
            "      Successfully uninstalled idna-3.4\n",
            "  Attempting uninstall: cycler\n",
            "    Found existing installation: cycler 0.11.0\n",
            "    Uninstalling cycler-0.11.0:\n",
            "      Successfully uninstalled cycler-0.11.0\n",
            "Successfully installed cycler-0.10.0 idna-2.10 pyparsing-2.4.7 python-dotenv-1.0.0 requests-toolbelt-1.0.0 roboflow-1.0.9 wget-3.2\n"
          ]
        },
        {
          "output_type": "display_data",
          "data": {
            "application/vnd.colab-display-data+json": {
              "pip_warning": {
                "packages": [
                  "cycler",
                  "pyparsing"
                ]
              }
            }
          },
          "metadata": {}
        }
      ],
      "source": [
        "!pip install roboflow\n",
        "from roboflow import Roboflow\n",
        "import cv2\n",
        "import numpy as np\n",
        "from google.colab.patches import cv2_imshow\n",
        "import os\n",
        "from PIL import Image, ImageDraw\n",
        "import pandas as pd\n",
        "pd.set_option('display.max_columns', None)"
      ]
    },
    {
      "cell_type": "code",
      "execution_count": null,
      "metadata": {
        "id": "fRIYGJmCuiKU"
      },
      "outputs": [],
      "source": [
        "rf = Roboflow(api_key=\"xw35YyNnvd19WHlauQev\")"
      ]
    },
    {
      "cell_type": "markdown",
      "metadata": {
        "id": "pj6LYE0Hup6U"
      },
      "source": [
        "#box model"
      ]
    },
    {
      "cell_type": "code",
      "execution_count": null,
      "metadata": {
        "colab": {
          "base_uri": "https://localhost:8080/"
        },
        "id": "VV8RRBNiuiHL",
        "outputId": "9c740a4d-4dda-4628-c14b-fb634f23f166"
      },
      "outputs": [
        {
          "output_type": "stream",
          "name": "stdout",
          "text": [
            "loading Roboflow workspace...\n",
            "loading Roboflow project...\n"
          ]
        }
      ],
      "source": [
        "project = rf.workspace().project(\"gp-sinuses\")\n",
        "model_box = project.version(7).model"
      ]
    },
    {
      "cell_type": "markdown",
      "metadata": {
        "id": "wb7V6SyfuszV"
      },
      "source": [
        "#segmentation model"
      ]
    },
    {
      "cell_type": "code",
      "execution_count": null,
      "metadata": {
        "colab": {
          "base_uri": "https://localhost:8080/"
        },
        "id": "tu0zTQ9iuiEQ",
        "outputId": "dc577413-fb9e-4018-bb3e-d50d8d0d6646"
      },
      "outputs": [
        {
          "output_type": "stream",
          "name": "stdout",
          "text": [
            "loading Roboflow workspace...\n",
            "loading Roboflow project...\n"
          ]
        }
      ],
      "source": [
        "project = rf.workspace().project(\"gp-segmentation\")\n",
        "model_seg = project.version(4).model"
      ]
    },
    {
      "cell_type": "markdown",
      "metadata": {
        "id": "ITtWlQlhu-hH"
      },
      "source": [
        "#visualize your prediction for both models"
      ]
    },
    {
      "cell_type": "code",
      "execution_count": null,
      "metadata": {
        "id": "76CcxoyOvJQp"
      },
      "outputs": [],
      "source": [
        "image = cv2.imread('/content/drive/MyDrive/DVD Cases /Case-19/images/IMG51.jpg')"
      ]
    },
    {
      "cell_type": "markdown",
      "metadata": {
        "id": "uHakfUvYCNbB"
      },
      "source": [
        "##raw image"
      ]
    },
    {
      "cell_type": "code",
      "execution_count": null,
      "metadata": {
        "colab": {
          "base_uri": "https://localhost:8080/"
        },
        "id": "dE4tILC2uiBg",
        "outputId": "69e9f3bc-c708-486b-ff49-6a11960cc7a9"
      },
      "outputs": [
        {
          "output_type": "display_data",
          "data": {
            "text/plain": [
              "<PIL.Image.Image image mode=RGB size=452x588 at 0x7F3125297580>"
            ],
            "image/png": "[encoded data removed]"
          },
          "metadata": {}
        }
      ],
      "source": [
        "cv2_imshow(image)"
      ]
    },
    {
      "cell_type": "markdown",
      "metadata": {
        "id": "--TLghP3DG2J"
      },
      "source": [
        "##box model visualization"
      ]
    },
    {
      "cell_type": "code",
      "execution_count": null,
      "metadata": {
        "id": "oNm_4vgOCa5e"
      },
      "outputs": [],
      "source": [
        "results = model_box.predict(\"/content/drive/MyDrive/DVD Cases /Case-19/images/IMG51.jpg\").json()\n",
        "# convert image to numpy (for convenience)\n",
        "imArray = np.asarray(Image.open(\"/content/drive/MyDrive/DVD Cases /Case-19/images/IMG51.jpg\").convert(\"RGBA\"))"
      ]
    },
    {
      "cell_type": "code",
      "execution_count": null,
      "metadata": {
        "colab": {
          "base_uri": "https://localhost:8080/"
        },
        "id": "seIfh-yaCX_1",
        "outputId": "253d7c4a-f4a0-4d04-a7a9-c0e22645fea1"
      },
      "outputs": [
        {
          "output_type": "stream",
          "name": "stdout",
          "text": [
            "ant.ethmoid L\n"
          ]
        },
        {
          "output_type": "display_data",
          "data": {
            "text/plain": [
              "<PIL.Image.Image image mode=RGB size=24x53 at 0x7F316C8015D0>"
            ],
            "image/png": "[encoded data removed]"
          },
          "metadata": {}
        },
        {
          "output_type": "stream",
          "name": "stdout",
          "text": [
            "\n",
            " \n",
            "\n",
            "crista galli\n"
          ]
        },
        {
          "output_type": "display_data",
          "data": {
            "text/plain": [
              "<PIL.Image.Image image mode=RGB size=11x23 at 0x7F316C802DD0>"
            ],
            "image/png": "[encoded data removed]"
          },
          "metadata": {}
        },
        {
          "output_type": "stream",
          "name": "stdout",
          "text": [
            "\n",
            " \n",
            "\n",
            "septum\n"
          ]
        },
        {
          "output_type": "display_data",
          "data": {
            "text/plain": [
              "<PIL.Image.Image image mode=RGB size=17x113 at 0x7F316C802F80>"
            ],
            "image/png": "[encoded data removed]"
          },
          "metadata": {}
        },
        {
          "output_type": "stream",
          "name": "stdout",
          "text": [
            "\n",
            " \n",
            "\n",
            "ant.ethmoid R\n"
          ]
        },
        {
          "output_type": "display_data",
          "data": {
            "text/plain": [
              "<PIL.Image.Image image mode=RGB size=27x56 at 0x7F3125297280>"
            ],
            "image/png": "[encoded data removed]"
          },
          "metadata": {}
        },
        {
          "output_type": "stream",
          "name": "stdout",
          "text": [
            "\n",
            " \n",
            "\n"
          ]
        }
      ],
      "source": [
        "for index, prediction in enumerate(results[\"predictions\"]):\n",
        "\n",
        "  roi_x = int(prediction['x'] - prediction['width'] / 2)\n",
        "  roi_y = int(prediction['y'] - prediction['height'] / 2)\n",
        "  roi_width = int(prediction['width'])\n",
        "  roi_height = int(prediction['height'])\n",
        "\n",
        "  roi = image[roi_y:roi_y+roi_height, roi_x:roi_x+roi_width]\n",
        "  print(prediction[\"class\"])\n",
        "  cv2_imshow(roi)\n",
        "  print(\"\\n \\n\")"
      ]
    },
    {
      "cell_type": "markdown",
      "metadata": {
        "id": "bJQ8vPD-EU1g"
      },
      "source": [
        "##segmentation model visualization"
      ]
    },
    {
      "cell_type": "code",
      "execution_count": null,
      "metadata": {
        "id": "8Ja35lzgBnTl"
      },
      "outputs": [],
      "source": [
        "# perform inference on the image\n",
        "results = model_seg.predict(\"/content/drive/MyDrive/DVD Cases /Case-19/images/IMG51.jpg\").json()\n",
        "# convert image to numpy (for convenience)\n",
        "imArray = np.asarray(Image.open(\"/content/drive/MyDrive/DVD Cases /Case-19/images/IMG51.jpg\").convert(\"RGBA\"))"
      ]
    },
    {
      "cell_type": "code",
      "execution_count": null,
      "metadata": {
        "colab": {
          "base_uri": "https://localhost:8080/"
        },
        "id": "xYGyrWkDuh7u",
        "outputId": "66455051-094d-4d34-9b69-c62c19b2e926"
      },
      "outputs": [
        {
          "output_type": "stream",
          "name": "stdout",
          "text": [
            "maxillary R\n"
          ]
        },
        {
          "output_type": "display_data",
          "data": {
            "text/plain": [
              "<PIL.Image.Image image mode=L size=86x73 at 0x7F3125297FA0>"
            ],
            "image/png": "[encoded data removed]"
          },
          "metadata": {}
        },
        {
          "output_type": "stream",
          "name": "stdout",
          "text": [
            "\n",
            " \n",
            "\n",
            "maxillary L\n"
          ]
        },
        {
          "output_type": "display_data",
          "data": {
            "text/plain": [
              "<PIL.Image.Image image mode=L size=81x83 at 0x7F3125295B10>"
            ],
            "image/png": "[encoded data removed]"
          },
          "metadata": {}
        },
        {
          "output_type": "stream",
          "name": "stdout",
          "text": [
            "\n",
            " \n",
            "\n",
            "inferior turbinate\n"
          ]
        },
        {
          "output_type": "display_data",
          "data": {
            "text/plain": [
              "<PIL.Image.Image image mode=L size=35x59 at 0x7F3125297D00>"
            ],
            "image/png": "[encoded data removed]"
          },
          "metadata": {}
        },
        {
          "output_type": "stream",
          "name": "stdout",
          "text": [
            "\n",
            " \n",
            "\n",
            "inferior turbinate\n"
          ]
        },
        {
          "output_type": "display_data",
          "data": {
            "text/plain": [
              "<PIL.Image.Image image mode=L size=36x60 at 0x7F3125296B90>"
            ],
            "image/png": "[encoded data removed]"
          },
          "metadata": {}
        },
        {
          "output_type": "stream",
          "name": "stdout",
          "text": [
            "\n",
            " \n",
            "\n",
            "maxillary L\n"
          ]
        },
        {
          "output_type": "display_data",
          "data": {
            "text/plain": [
              "<PIL.Image.Image image mode=L size=83x73 at 0x7F3125295A80>"
            ],
            "image/png": "[encoded data removed]"
          },
          "metadata": {}
        },
        {
          "output_type": "stream",
          "name": "stdout",
          "text": [
            "\n",
            " \n",
            "\n"
          ]
        }
      ],
      "source": [
        "# process each resulting prediction \n",
        "for index, prediction in enumerate(results[\"predictions\"]):\n",
        "  \n",
        "\n",
        "  # convert polygon prediction points to workable tuple format\n",
        "  polygon = [(point_obj[\"x\"], point_obj[\"y\"]) for point_obj in prediction[\"points\"]]\n",
        "\n",
        "  # create a mask image\n",
        "  maskIm = Image.new('L', (imArray.shape[1], imArray.shape[0]), 0)\n",
        "  ImageDraw.Draw(maskIm).polygon(polygon, outline=1, fill=1)\n",
        "\n",
        "  gray_image = cv2.cvtColor(image, cv2.COLOR_BGR2GRAY)\n",
        "  new_img=gray_image*maskIm\n",
        "\n",
        "  # cv2_imshow(new_img)\n",
        "\n",
        "  roi_x = int(prediction['x'] - prediction['width'] / 2)\n",
        "  roi_y = int(prediction['y'] - prediction['height'] / 2)\n",
        "  roi_width = int(prediction['width'])\n",
        "  roi_height = int(prediction['height'])\n",
        "\n",
        "  roi = new_img[roi_y:roi_y+roi_height, roi_x:roi_x+roi_width]\n",
        "  print(prediction[\"class\"])\n",
        "  cv2_imshow(roi)\n",
        "  print(\"\\n \\n\")"
      ]
    },
    {
      "cell_type": "markdown",
      "metadata": {
        "id": "1nch79b3NG9L"
      },
      "source": [
        "#functions"
      ]
    },
    {
      "cell_type": "code",
      "execution_count": null,
      "metadata": {
        "id": "9qH0MdZCdeIu"
      },
      "outputs": [],
      "source": [
        "       \n",
        "def p_ratio(image):       \n",
        "      # gray_image = cv2.cvtColor(image, cv2.COLOR_BGR2GRAY)\n",
        "      #range of gray values\n",
        "      value_min = 28\n",
        "      value_max = 94\n",
        "      mask = np.logical_and(image >= value_min, image <= value_max)\n",
        "      count_gray = np.count_nonzero(mask)\n",
        "\n",
        "      #range of black values\n",
        "      value_min = 0\n",
        "      value_max = 20\n",
        "      mask = np.logical_and(image >= value_min, image <= value_max)\n",
        "      count_black = np.count_nonzero(mask)\n",
        "\n",
        "      ratio=count_gray/(count_black+count_gray)\n",
        "\n",
        "      # print(ratio)\n",
        "\n",
        "      return ratio"
      ]
    },
    {
      "cell_type": "code",
      "execution_count": null,
      "metadata": {
        "id": "xul-JYjhVvpm"
      },
      "outputs": [],
      "source": [
        "def area(image):\n",
        "      height, width = image.shape\n",
        "      area=height*width\n",
        "      return area"
      ]
    },
    {
      "cell_type": "code",
      "execution_count": null,
      "metadata": {
        "id": "ooRLVcxwTvb3"
      },
      "outputs": [],
      "source": [
        "def count_gray(image):\n",
        "      value_min = 28\n",
        "      value_max = 94\n",
        "      mask = np.logical_and(image >= value_min, image <= value_max)\n",
        "      count_gray = np.count_nonzero(mask)\n",
        "      return count_gray\n"
      ]
    },
    {
      "cell_type": "code",
      "execution_count": null,
      "metadata": {
        "id": "mW9dCB6JU4Rj"
      },
      "outputs": [],
      "source": [
        "def count_black(image):\n",
        "      value_min = 0\n",
        "      value_max = 20\n",
        "      mask = np.logical_and(image >= value_min, image <= value_max)\n",
        "      count_black = np.count_nonzero(mask)\n",
        "      return count_black"
      ]
    },
    {
      "cell_type": "code",
      "source": [
        "def clear_lists():\n",
        "  count_maxillary_R=[0]*6\n",
        "  count_maxillary_L=[0]*6\n",
        "  count_frontal=[0]*6\n",
        "  count_int_R=[0]*6\n",
        "  count_int_L=[0]*6\n",
        "  count_post_R=[0]*6\n",
        "  count_post_L=[0]*6\n",
        "  count_sphenoid_R=[0]*6\n",
        "  count_sphenoid_L=[0]*6\n",
        "  count_septum=[0]*6\n",
        "  count_inferior_turbinate=[0]*6\n",
        "  count_concha_ratio=[0]*6\n",
        "  count_concha_black=[0]*6\n",
        "  count_concha_size=[0]*6\n",
        "  count_nasopharynx=[0]*6"
      ],
      "metadata": {
        "id": "Ubi9PeTEwfg1"
      },
      "execution_count": null,
      "outputs": []
    },
    {
      "cell_type": "code",
      "source": [
        "def calculate(i):\n",
        "  data.loc[i:i, 'maxillary R gray/black ratio']=np.mean(count_maxillary_R)\n",
        "  data.loc[i:i, 'm_r_std']=np.std(count_maxillary_R)\n",
        "  data.loc[i:i, 'm_r_1']=sorted(count_maxillary_R, reverse=True)[:1]\n",
        "  data.loc[i:i, 'm_r_2']=sorted(count_maxillary_R, reverse=True)[1:2]\n",
        "  data.loc[i:i, 'm_r_3']=sorted(count_maxillary_R, reverse=True)[2:3]\n",
        "  data.loc[i:i, 'm_r_4']=sorted(count_maxillary_R, reverse=True)[3:4]\n",
        "  data.loc[i:i, 'm_r_5']=sorted(count_maxillary_R, reverse=True)[4:5]\n",
        "\n",
        "  data.loc[i:i, 'maxillary L gray/black ratio']=np.mean(count_maxillary_L)\n",
        "  data.loc[i:i, 'm_l_std']=np.std(count_maxillary_L)\n",
        "  data.loc[i:i, 'm_l_1']=sorted(count_maxillary_L, reverse=True)[:1]\n",
        "  data.loc[i:i, 'm_l_2']=sorted(count_maxillary_L, reverse=True)[1:2]\n",
        "  data.loc[i:i, 'm_l_3']=sorted(count_maxillary_L, reverse=True)[2:3]\n",
        "  data.loc[i:i, 'm_l_4']=sorted(count_maxillary_L, reverse=True)[3:4]\n",
        "  data.loc[i:i, 'm_l_5']=sorted(count_maxillary_L, reverse=True)[4:5]\n",
        "\n",
        "\n",
        "\n",
        "\n",
        "  data.loc[i:i, 'ant.ethmoid R gray/black ratio']=np.mean(count_int_R)\n",
        "  data.loc[i:i, 'ant_r_std']=np.std(count_int_R)\n",
        "  data.loc[i:i, 'ant_r_1']=sorted(count_int_R, reverse=True)[:1]\n",
        "  data.loc[i:i, 'ant_r_2']=sorted(count_int_R, reverse=True)[1:2]\n",
        "  data.loc[i:i, 'ant_r_3']=sorted(count_int_R, reverse=True)[2:3]\n",
        "  data.loc[i:i, 'ant_r_4']=sorted(count_int_R, reverse=True)[3:4]\n",
        "  data.loc[i:i, 'ant_r_5']=sorted(count_int_R, reverse=True)[4:5]\n",
        "\n",
        "  data.loc[i:i, 'ant.ethmoid L gray/black ratio']=np.mean(count_int_L)\n",
        "  data.loc[i:i, 'ant_l_std']=np.std(count_int_L)\n",
        "  data.loc[i:i, 'ant_l_1']=sorted(count_int_L, reverse=True)[:1]\n",
        "  data.loc[i:i, 'ant_l_2']=sorted(count_int_L, reverse=True)[1:2]\n",
        "  data.loc[i:i, 'ant_l_3']=sorted(count_int_L, reverse=True)[2:3]\n",
        "  data.loc[i:i, 'ant_l_4']=sorted(count_int_L, reverse=True)[3:4]\n",
        "  data.loc[i:i, 'ant_l_5']=sorted(count_int_L, reverse=True)[4:5]\n",
        "\n",
        "\n",
        "  data.loc[i:i, 'post.ethmoid R gray/black ratio']=np.mean(count_post_R)\n",
        "  data.loc[i:i, 'post_r_std']=np.std(count_post_R)\n",
        "  data.loc[i:i, 'post_r_1']=sorted(count_post_R, reverse=True)[:1]\n",
        "  data.loc[i:i, 'post_r_2']=sorted(count_post_R, reverse=True)[1:2]\n",
        "  data.loc[i:i, 'post_r_3']=sorted(count_post_R, reverse=True)[2:3]\n",
        "  data.loc[i:i, 'post_r_4']=sorted(count_post_R, reverse=True)[3:4]\n",
        "  data.loc[i:i, 'post_r_5']=sorted(count_post_R, reverse=True)[4:5]\n",
        "\n",
        "  data.loc[i:i, 'post.ethmoid L gray/black ratio']=np.mean(count_post_L)\n",
        "  data.loc[i:i, 'post_l_std']=np.std(count_post_L)\n",
        "  data.loc[i:i, 'post_l_1']=sorted(count_post_L, reverse=True)[:1]\n",
        "  data.loc[i:i, 'post_l_2']=sorted(count_post_L, reverse=True)[1:2]\n",
        "  data.loc[i:i, 'post_l_3']=sorted(count_post_L, reverse=True)[2:3]\n",
        "  data.loc[i:i, 'post_l_4']=sorted(count_post_L, reverse=True)[3:4]\n",
        "  data.loc[i:i, 'post_l_5']=sorted(count_post_L, reverse=True)[4:5]\n",
        "\n",
        "\n",
        "  data.loc[i:i, 'frontal gray/black ratio']=np.mean(count_frontal)\n",
        "  data.loc[i:i, 'front_std']=np.std(count_frontal)\n",
        "  data.loc[i:i, 'front_1']=sorted(count_frontal, reverse=True)[:1]\n",
        "  data.loc[i:i, 'front_2']=sorted(count_frontal, reverse=True)[1:2]\n",
        "  data.loc[i:i, 'front_3']=sorted(count_frontal, reverse=True)[2:3]\n",
        "  data.loc[i:i, 'front_4']=sorted(count_frontal, reverse=True)[3:4]\n",
        "  data.loc[i:i, 'front_5']=sorted(count_frontal, reverse=True)[4:5]\n",
        "\n",
        "  data.loc[i:i, 'sphenoid R gray/black ratio']=np.mean(count_sphenoid_R)\n",
        "  data.loc[i:i, 'sphen_r_std']=np.std(count_sphenoid_R)\n",
        "  data.loc[i:i, 'sphen_r_1']=sorted(count_sphenoid_R, reverse=True)[:1]\n",
        "  data.loc[i:i, 'sphen_r_2']=sorted(count_sphenoid_R, reverse=True)[1:2]\n",
        "  data.loc[i:i, 'sphen_r_3']=sorted(count_sphenoid_R, reverse=True)[2:3]\n",
        "  data.loc[i:i, 'sphen_r_4']=sorted(count_sphenoid_R, reverse=True)[3:4]\n",
        "  data.loc[i:i, 'sphen_r_5']=sorted(count_sphenoid_R, reverse=True)[4:5]\n",
        "\n",
        "  data.loc[i:i, 'sphenoid L gray/black ratio']=np.mean(count_sphenoid_L)\n",
        "  data.loc[i:i, 'sphen_l_std']=np.std(count_sphenoid_L)\n",
        "  data.loc[i:i, 'sphen_l_1']=sorted(count_sphenoid_L, reverse=True)[:1]\n",
        "  data.loc[i:i, 'sphen_l_2']=sorted(count_sphenoid_L, reverse=True)[1:2]\n",
        "  data.loc[i:i, 'sphen_l_3']=sorted(count_sphenoid_L, reverse=True)[2:3]\n",
        "  data.loc[i:i, 'sphen_l_4']=sorted(count_sphenoid_L, reverse=True)[3:4]\n",
        "  data.loc[i:i, 'sphen_l_5']=sorted(count_sphenoid_L, reverse=True)[4:5]\n",
        "\n",
        "\n",
        "  data.loc[i:i, 'septum area']=np.mean(count_septum)\n",
        "  data.loc[i:i, 'sept_std']=np.std(count_septum)\n",
        "  data.loc[i:i, 'sept_1']=sorted(count_septum, reverse=True)[:1]\n",
        "  data.loc[i:i, 'sept_2']=sorted(count_septum, reverse=True)[1:2]\n",
        "  data.loc[i:i, 'sept_3']=sorted(count_septum, reverse=True)[2:3]\n",
        "  data.loc[i:i, 'sept_4']=sorted(count_septum, reverse=True)[3:4]\n",
        "  data.loc[i:i, 'sept_5']=sorted(count_septum, reverse=True)[4:5]\n",
        "\n",
        "  data.loc[i:i, 'inferior turbinate ratio']=np.mean(count_inferior_turbinate)\n",
        "  data.loc[i:i, 'it_std']=np.std(count_inferior_turbinate)\n",
        "  data.loc[i:i, 'it_1']=sorted(count_inferior_turbinate, reverse=True)[:1]\n",
        "  data.loc[i:i, 'it_2']=sorted(count_inferior_turbinate, reverse=True)[1:2]\n",
        "  data.loc[i:i, 'it_3']=sorted(count_inferior_turbinate, reverse=True)[2:3]\n",
        "  data.loc[i:i, 'it_4']=sorted(count_inferior_turbinate, reverse=True)[3:4]\n",
        "  data.loc[i:i, 'it_5']=sorted(count_inferior_turbinate, reverse=True)[4:5]\n",
        "\n",
        "\n",
        "  data.loc[i:i, 'concha_blk_ratio']=np.mean(count_concha_black)\n",
        "  data.loc[i:i, 'concha_blk_std']=np.std(count_concha_black)\n",
        "  data.loc[i:i, 'concha_blk_1']=sorted(count_concha_black, reverse=True)[:1]\n",
        "  data.loc[i:i, 'concha_blk_2']=sorted(count_concha_black, reverse=True)[1:2]\n",
        "  data.loc[i:i, 'concha_blk_3']=sorted(count_concha_black, reverse=True)[2:3]\n",
        "  data.loc[i:i, 'concha_blk_4']=sorted(count_concha_black, reverse=True)[3:4]\n",
        "  data.loc[i:i, 'concha_blk_5']=sorted(count_concha_black, reverse=True)[4:5]\n",
        "\n",
        "\n",
        "\n",
        "  data.loc[i:i, 'concha_size_ratio']=np.mean(count_concha_size)\n",
        "  data.loc[i:i, 'concha_size_std']=np.std(count_concha_size)\n",
        "  data.loc[i:i, 'concha_size_1']=sorted(count_concha_size, reverse=True)[:1]\n",
        "  data.loc[i:i, 'concha_size_2']=sorted(count_concha_size, reverse=True)[1:2]\n",
        "  data.loc[i:i, 'concha_size_3']=sorted(count_concha_size, reverse=True)[2:3]\n",
        "  data.loc[i:i, 'concha_size_4']=sorted(count_concha_size, reverse=True)[3:4]\n",
        "  data.loc[i:i, 'concha_size_5']=sorted(count_concha_size, reverse=True)[4:5]\n",
        "\n",
        "  count_nasopharynx=count_nasopharynx[0:6]\n",
        "  data.loc[i:i, 'nasopharynx area']=np.mean(count_nasopharynx)\n",
        "  data.loc[i:i, 'naso_std']=np.std(count_nasopharynx)\n",
        "  data.loc[i:i, 'naso_1']=sorted(count_nasopharynx, reverse=True)[:1]\n",
        "  data.loc[i:i, 'naso_2']=sorted(count_nasopharynx, reverse=True)[1:2]\n",
        "  data.loc[i:i, 'naso_3']=sorted(count_nasopharynx, reverse=True)[2:3]\n",
        "  data.loc[i:i, 'naso_4']=sorted(count_nasopharynx, reverse=True)[3:4]\n",
        "  data.loc[i:i, 'naso_5']=sorted(count_nasopharynx, reverse=True)[4:5]\n",
        "\n"
      ],
      "metadata": {
        "id": "seXoL6TneCrh"
      },
      "execution_count": null,
      "outputs": []
    },
    {
      "cell_type": "code",
      "execution_count": null,
      "metadata": {
        "id": "gvU8RubOty_v"
      },
      "outputs": [],
      "source": [
        "def class_ratio(image,Class):       \n",
        "      if(Class==\"maxillary R\"):\n",
        "        count_maxillary_R.append(p_ratio(image))\n",
        "\n",
        "      elif(Class==\"maxillary L\"):\n",
        "        count_maxillary_L.append(p_ratio(image))\n",
        "\n",
        "      elif(Class==\"frontal\"):\n",
        "        count_frontal.append(p_ratio(image))\n",
        "          \n",
        "      elif(Class==\"ant.ethmoid R\"):\n",
        "        count_int_R.append(p_ratio(image))\n",
        "\n",
        "      elif(Class==\"ant.ethmoid L\"):\n",
        "        count_int_L.append(p_ratio(image))\n",
        "\n",
        "      elif(Class==\"post. ethmoid R\"):\n",
        "        count_post_R.append(p_ratio(image))\n",
        "\n",
        "      elif(Class==\"post. ethmoid L\"):\n",
        "        count_post_L.append(p_ratio(image))\n",
        "\n",
        "      elif(Class==\"sphenoid R\"):\n",
        "        count_sphenoid_R.append(p_ratio(image))\n",
        "\n",
        "      elif(Class==\"sphenoid L\"):\n",
        "        count_sphenoid_L.append(p_ratio(image))\n",
        "\n",
        "      elif(Class==\"septum\"):\n",
        "        count_septum.append(area(image))\n",
        "\n",
        "      elif(Class==\"inferior turbinate\"):\n",
        "        count_inferior_turbinate.append(p_ratio(image))\n",
        "\n",
        "      elif(Class==\"concha bullosa\"):\n",
        "        count_concha_black.append(count_black(image))\n",
        "        count_concha_size.append(count_gray(image)+count_black(image))\n",
        "\n",
        "      elif(Class==\"nasopharynx\"):\n",
        "          count_nasopharynx.append(count_black(image))"
      ]
    },
    {
      "cell_type": "code",
      "execution_count": null,
      "metadata": {
        "id": "NO82As-JxK6-"
      },
      "outputs": [],
      "source": [
        "def box(image):\n",
        "  results = model_box.predict(image).json()\n",
        "  gray_image = cv2.cvtColor(image, cv2.COLOR_BGR2GRAY)\n",
        "\n",
        "  for index, prediction in enumerate(results[\"predictions\"]):\n",
        "\n",
        "    roi_x = int(prediction['x'] - prediction['width'] / 2)\n",
        "    roi_y = int(prediction['y'] - prediction['height'] / 2)\n",
        "    roi_width = int(prediction['width'])\n",
        "    roi_height = int(prediction['height'])\n",
        "\n",
        "    roi = gray_image[roi_y:roi_y+roi_height, roi_x:roi_x+roi_width]\n",
        "          \n",
        "\n",
        "    class_ratio(roi,prediction[\"class\"])\n"
      ]
    },
    {
      "cell_type": "code",
      "execution_count": null,
      "metadata": {
        "id": "5dILFCOPRiCm"
      },
      "outputs": [],
      "source": [
        "def seg(file_path):\n",
        "  results = model_seg.predict(file_path).json()\n",
        "  image = cv2.imread(file_path)\n",
        "\n",
        "  for index, prediction in enumerate(results[\"predictions\"]):\n",
        "\n",
        "    polygon = [(point_obj[\"x\"], point_obj[\"y\"]) for point_obj in prediction[\"points\"]]\n",
        "\n",
        "    maskIm = Image.new('L', (image.shape[1], image.shape[0]), 255)\n",
        "    ImageDraw.Draw(maskIm).polygon(polygon, outline=1, fill=1)\n",
        "\n",
        "    gray_image = cv2.cvtColor(image, cv2.COLOR_BGR2GRAY)\n",
        "    new_img=gray_image*maskIm\n",
        "\n",
        "    roi_x = int(prediction['x'] - prediction['width'] / 2)\n",
        "    roi_y = int(prediction['y'] - prediction['height'] / 2)\n",
        "    roi_width = int(prediction['width'])\n",
        "    roi_height = int(prediction['height'])\n",
        "\n",
        "    roi = new_img[roi_y:roi_y+roi_height, roi_x:roi_x+roi_width]\n",
        "\n",
        "    # cv2_imshow(new_img)\n",
        "    # cv2_imshow(roi)\n",
        "\n",
        "    class_ratio(roi,prediction[\"class\"])"
      ]
    },
    {
      "cell_type": "markdown",
      "metadata": {
        "id": "t2Db95pKFnSb"
      },
      "source": [
        "#process full case"
      ]
    },
    {
      "cell_type": "code",
      "source": [
        "data = pd.read_csv(\"/content/data set.xlsx - Sheet1.csv\")"
      ],
      "metadata": {
        "id": "CmLsNzJ0f6gV"
      },
      "execution_count": null,
      "outputs": []
    },
    {
      "cell_type": "code",
      "execution_count": null,
      "metadata": {
        "colab": {
          "base_uri": "https://localhost:8080/",
          "height": 244
        },
        "id": "A7UjMt_LRaGG",
        "outputId": "b3afb8c3-4c05-4e72-b065-00cc46c7fb29"
      },
      "outputs": [
        {
          "output_type": "error",
          "ename": "NameError",
          "evalue": "ignored",
          "traceback": [
            "\u001b[0;31m---------------------------------------------------------------------------\u001b[0m",
            "\u001b[0;31mNameError\u001b[0m                                 Traceback (most recent call last)",
            "\u001b[0;32m<ipython-input-12-08bbe72a53d4>\u001b[0m in \u001b[0;36m<cell line: 2>\u001b[0;34m()\u001b[0m\n\u001b[1;32m     17\u001b[0m           \u001b[0mimage\u001b[0m \u001b[0;34m=\u001b[0m \u001b[0mcv2\u001b[0m\u001b[0;34m.\u001b[0m\u001b[0mimread\u001b[0m\u001b[0;34m(\u001b[0m\u001b[0mfile_path\u001b[0m\u001b[0;34m)\u001b[0m\u001b[0;34m\u001b[0m\u001b[0;34m\u001b[0m\u001b[0m\n\u001b[1;32m     18\u001b[0m \u001b[0;34m\u001b[0m\u001b[0m\n\u001b[0;32m---> 19\u001b[0;31m           \u001b[0mbox\u001b[0m\u001b[0;34m(\u001b[0m\u001b[0mimage\u001b[0m\u001b[0;34m)\u001b[0m\u001b[0;34m\u001b[0m\u001b[0;34m\u001b[0m\u001b[0m\n\u001b[0m\u001b[1;32m     20\u001b[0m \u001b[0;34m\u001b[0m\u001b[0m\n\u001b[1;32m     21\u001b[0m           \u001b[0mseg\u001b[0m\u001b[0;34m(\u001b[0m\u001b[0mfile_path\u001b[0m\u001b[0;34m)\u001b[0m\u001b[0;34m\u001b[0m\u001b[0;34m\u001b[0m\u001b[0m\n",
            "\u001b[0;31mNameError\u001b[0m: name 'box' is not defined"
          ]
        }
      ],
      "source": [
        "n=0\n",
        "ids=data['Hospital_ID']\n",
        "for i in ids:\n",
        "  directory_path = f\"/content/drive/MyDrive/blue flash finished/{i}\"\n",
        "  count_naso=0\n",
        "\n",
        "\n",
        "  # Iterate over each file in the directory\n",
        "  for file_name in os.listdir(directory_path):\n",
        "      # Check if the file is a picture (you can customize the condition based on the file extensions of your pictures)\n",
        "      if file_name.endswith(\".jpg\") or file_name.endswith(\".JPG\"):\n",
        "          # Process each picture file here\n",
        "          file_path = os.path.join(directory_path, file_name)\n",
        "\n",
        "          image = cv2.imread(file_path)\n",
        "\n",
        "          clear_lists()\n",
        "\n",
        "          box(image)\n",
        "\n",
        "          seg(file_path)\n",
        "\n",
        "          calculate(n)\n",
        "\n",
        "          n=n+1\n",
        "\n"
      ]
    },
    {
      "cell_type": "markdown",
      "metadata": {
        "id": "6L6RnOhGIhsf"
      },
      "source": [
        "##calculate"
      ]
    },
    {
      "cell_type": "code",
      "execution_count": null,
      "metadata": {
        "id": "A3NM5dqoaVAS"
      },
      "outputs": [],
      "source": [
        "data.head(50)"
      ]
    },
    {
      "cell_type": "code",
      "execution_count": null,
      "metadata": {
        "id": "dfu6sN1ARZ7n"
      },
      "outputs": [],
      "source": [
        "data.to_csv(\"dataset_fill.csv\")"
      ]
    }
  ],
  "metadata": {
    "colab": {
      "collapsed_sections": [
        "ITtWlQlhu-hH",
        "uHakfUvYCNbB",
        "--TLghP3DG2J",
        "bJQ8vPD-EU1g"
      ],
      "provenance": []
    },
    "kernelspec": {
      "display_name": "Python 3",
      "name": "python3"
    },
    "language_info": {
      "name": "python"
    }
  },
  "nbformat": 4,
  "nbformat_minor": 0
}